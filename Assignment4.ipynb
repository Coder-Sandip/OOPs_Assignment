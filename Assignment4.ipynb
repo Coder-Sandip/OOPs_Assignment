{
  "nbformat": 4,
  "nbformat_minor": 0,
  "metadata": {
    "colab": {
      "provenance": []
    },
    "kernelspec": {
      "name": "python3",
      "display_name": "Python 3"
    },
    "language_info": {
      "name": "python"
    }
  },
  "cells": [
    {
      "cell_type": "markdown",
      "source": [
        "# 1.What are the five concepts of Object-Oriented Programming(OOP)?\n"
      ],
      "metadata": {
        "id": "BNu6cXl0_2G8"
      }
    },
    {
      "cell_type": "markdown",
      "source": [
        "**Classes/objects:** A basic concept of OOP. A Class is a user-defined data type that has data members and member functions. An Object is an identifiable entity with some characteristics and behavior.\n",
        "\n",
        "**Inheritance:** A basic concept of OOP. The capability of a class to derive properties and characteristics from another class is called Inheritance.\n",
        "\n",
        "**Encapsulation:** Bundles data and methods that work on that data within a unit, like a class. This concept helps prevent unwanted modifications and reduces errors.\n",
        "\n",
        "**Polymorphism:** Allows a single interface to represent a general class of actions, so different types of objects can pass through the same interface. This concept improves code flexibility, extensibility, and readability.\n",
        "Abstraction: Simplifies complex systems by breaking them down into smaller, more manageable parts. This concept allows programmers to focus on the most important features of a class.\n",
        "\n",
        "**Abstraction:** Data abstraction is one of the most essential and important features of object-oriented programming.Abstraction means displaying only essential information and hiding the details.\n",
        "\n"
      ],
      "metadata": {
        "id": "5XYEl_gAAMBe"
      }
    },
    {
      "cell_type": "markdown",
      "source": [
        " # 2.Write a Python class For a 'Car' with attributes for 'make','model', and 'year'.Include a method to displaythe car's information."
      ],
      "metadata": {
        "id": "gOnxFgjnBa-E"
      }
    },
    {
      "cell_type": "code",
      "source": [
        "class Car:\n",
        "    def __init__(self, make, model, year):\n",
        "        self.make = make\n",
        "        self.model = model\n",
        "        self.year = year\n",
        "\n",
        "    def display_info(self):\n",
        "        print(f\"Car Information:\\nMake: {self.make}\\nModel: {self.model}\\nYear: {self.year}\")\n",
        "\n",
        "my_car = Car(\"Toyota\", \"Corolla\", 2020)\n",
        "my_car.display_info()\n"
      ],
      "metadata": {
        "colab": {
          "base_uri": "https://localhost:8080/"
        },
        "id": "zCof6Iz2CEFg",
        "outputId": "95e5ae1a-8ca3-400f-baa0-11b3996e487f"
      },
      "execution_count": 1,
      "outputs": [
        {
          "output_type": "stream",
          "name": "stdout",
          "text": [
            "Car Information:\n",
            "Make: Toyota\n",
            "Model: Corolla\n",
            "Year: 2020\n"
          ]
        }
      ]
    },
    {
      "cell_type": "markdown",
      "source": [
        "# 3.Explain the differenec between instance methods and class methods. Provide an example of each."
      ],
      "metadata": {
        "id": "PsD08AqvCiSP"
      }
    },
    {
      "cell_type": "markdown",
      "source": [
        "**Instance Methods:**\n",
        "\n",
        "\n",
        "\n",
        "*   Instance methods operate on an instance of a class.\n",
        "*   They can access and modify the attributes specific to that instance using the self keyword.\n",
        "*   Typically used to perform operations related to a specific instance.\n",
        "\n",
        "**Class Methods:**\n",
        "\n",
        "\n",
        "\n",
        "\n",
        "*   Class methods operate on the class itself rather than on a specific instance.\n",
        "*   They are defined with the @classmethod decorator and take cls (the class itself) as their first argument instead of self.\n",
        "*   Commonly used for operations that affect the class as a whole, such as factory methods or modifying class-level data."
      ],
      "metadata": {
        "id": "rHAul_jKDDSZ"
      }
    },
    {
      "cell_type": "code",
      "source": [
        "class Example:\n",
        "    class_variable = \"Shared across all instances\"\n",
        "\n",
        "    def __init__(self, value):\n",
        "        # Instance-level attribute\n",
        "        self.instance_variable = value\n",
        "\n",
        "    # Instance method\n",
        "    def instance_method(self):\n",
        "        print(f\"Instance Method Called\")\n",
        "        print(f\"Instance Variable: {self.instance_variable}\")\n",
        "        print(f\"Accessing Class Variable: {Example.class_variable}\")\n",
        "\n",
        "    # Class method\n",
        "    @classmethod\n",
        "    def class_method(cls):\n",
        "        print(f\"Class Method Called\")\n",
        "        print(f\"Accessing Class Variable: {cls.class_variable}\")\n",
        "        cls.class_variable = \"Modified by Class Method\"\n",
        "        print(f\"Class Variable After Modification: {cls.class_variable}\")\n",
        "\n",
        "example1 = Example(\"Value for Instance 1\")\n",
        "example1.instance_method()\n",
        "\n",
        "print(\"\\nCalling Class Method:\")\n",
        "Example.class_method()\n"
      ],
      "metadata": {
        "colab": {
          "base_uri": "https://localhost:8080/"
        },
        "id": "nj_S5Dv5Dtl2",
        "outputId": "b8560e35-eaed-426a-b29d-6c45ed29111b"
      },
      "execution_count": 2,
      "outputs": [
        {
          "output_type": "stream",
          "name": "stdout",
          "text": [
            "Instance Method Called\n",
            "Instance Variable: Value for Instance 1\n",
            "Accessing Class Variable: Shared across all instances\n",
            "\n",
            "Calling Class Method:\n",
            "Class Method Called\n",
            "Accessing Class Variable: Shared across all instances\n",
            "Class Variable After Modification: Modified by Class Method\n"
          ]
        }
      ]
    },
    {
      "cell_type": "markdown",
      "source": [
        "# 4.How does Python implemented method overloading? How are they denoted?"
      ],
      "metadata": {
        "id": "9Ikax3-DK92I"
      }
    },
    {
      "cell_type": "markdown",
      "source": [
        "**Method Overloading in Python**\n",
        "\n",
        "Python does not support method overloading (i.e., multiple methods with the same name but different parameter lists) in the traditional sense, as seen in languages like Java or C++. Instead, Python achieves similar functionality using default arguments, variable-length arguments, or type-checking within the method.\n",
        "\n"
      ],
      "metadata": {
        "id": "WEc-uE1pN8Lf"
      }
    },
    {
      "cell_type": "code",
      "source": [
        "def product(a, b):\n",
        "    p = a * b\n",
        "    print(p)\n",
        "\n",
        "\n",
        "def product(a, b, c):\n",
        "    p = a * b*c\n",
        "    print(p)\n",
        "\n",
        "\n",
        "# This line will call the second product method\n",
        "product(4, 5, 5)"
      ],
      "metadata": {
        "colab": {
          "base_uri": "https://localhost:8080/"
        },
        "id": "vz3SkFtjQCfb",
        "outputId": "257a8286-17c2-4db6-ddfc-80277358a3cf"
      },
      "execution_count": 3,
      "outputs": [
        {
          "output_type": "stream",
          "name": "stdout",
          "text": [
            "100\n"
          ]
        }
      ]
    },
    {
      "cell_type": "markdown",
      "source": [
        "Method overloading is not denoted explicitly in Python because it is simulated through these mechanisms. You denote a single method and handle multiple behaviors internally using:\n",
        "\n",
        "1.Default values for parameters.\n",
        "\n",
        "2.Variable-length arguments (*args, **kwargs).\n",
        "\n",
        "3.Type checks or conditional logic based on the arguments provided."
      ],
      "metadata": {
        "id": "ieeWJsV1QJMV"
      }
    },
    {
      "cell_type": "markdown",
      "source": [
        "#5. What are the three types of access modifiers in Python?How they are denoted?"
      ],
      "metadata": {
        "id": "Gd_Yss_tQoJr"
      }
    },
    {
      "cell_type": "markdown",
      "source": [
        "*Python provides three levels of access modifiers for class members:*\n",
        "\n",
        "**Public:**\n",
        "\n",
        "Members declared without any prefix are public.\n",
        "Accessible from anywhere (inside or outside the class).\n",
        "\n",
        "**Protected:**\n",
        "\n",
        "Members prefixed with a single underscore (_) are considered protected.\n",
        "Indicate that they should only be accessed within the class and its subclasses (not enforced, just a convention).\n",
        "\n",
        "**Private:**\n",
        "\n",
        "Members prefixed with a double underscore (__) are considered private.\n",
        "Not directly accessible outside the class. They are name-mangled to prevent accidental access but can still be accessed if you know the mangled name."
      ],
      "metadata": {
        "id": "yQWbeo5IRB1G"
      }
    },
    {
      "cell_type": "code",
      "source": [
        "class Parent1:\n",
        "    def greet(self):\n",
        "        print(\"Hello from Parent1\")\n",
        "\n",
        "class Parent2:\n",
        "    def greet(self):\n",
        "        print(\"Hello from Parent2\")\n",
        "\n",
        "class Child(Parent1, Parent2):  # Multiple inheritance\n",
        "    def greet(self):\n",
        "        print(\"Hello from Child\")\n",
        "        super().greet()\n",
        "\n",
        "child = Child()\n",
        "child.greet()\n"
      ],
      "metadata": {
        "colab": {
          "base_uri": "https://localhost:8080/"
        },
        "id": "54_fk3fYVPc6",
        "outputId": "42e612f6-844c-4ce5-fe6a-0ca7aed043ab"
      },
      "execution_count": 4,
      "outputs": [
        {
          "output_type": "stream",
          "name": "stdout",
          "text": [
            "Hello from Child\n",
            "Hello from Parent1\n"
          ]
        }
      ]
    },
    {
      "cell_type": "markdown",
      "source": [
        "# 6.Describe the five types of inheritance in Python. Provide a simple example of multiple inheritance."
      ],
      "metadata": {
        "id": "nLMwQ8xJZyCR"
      }
    },
    {
      "cell_type": "markdown",
      "source": [
        "1.**Single Inheritance:**\n",
        "A child class inherits from a single parent class.\n",
        "\n",
        "2.**Multiple Inheritance:**\n",
        "A child class inherits from more than one parent class.\n",
        "\n",
        "3.**Multilevel Inheritance:**\n",
        "A class is derived from a child class, forming a chain of inheritance.\n",
        "\n",
        "4.**Hierarchical Inheritance:**\n",
        "Multiple child classes inherit from a single parent class.\n",
        "\n",
        "5.**Hybrid Inheritance:**\n",
        "A combination of two or more types of inheritance (e.g., a mix of multilevel and multiple inheritance)."
      ],
      "metadata": {
        "id": "UIjn3NmvcnvO"
      }
    },
    {
      "cell_type": "code",
      "source": [
        "class Parent1:\n",
        "    def feature1(self):\n",
        "        print(\"Feature 1 from Parent1\")\n",
        "\n",
        "class Parent2:\n",
        "    def feature2(self):\n",
        "        print(\"Feature 2 from Parent2\")\n",
        "\n",
        "class Child(Parent1, Parent2):  # Multiple Inheritance\n",
        "    def feature3(self):\n",
        "        print(\"Feature 3 from Child\")\n",
        "\n",
        "\n",
        "obj = Child()\n",
        "obj.feature1()\n",
        "obj.feature2()\n",
        "obj.feature3()\n"
      ],
      "metadata": {
        "colab": {
          "base_uri": "https://localhost:8080/"
        },
        "id": "z14F2g2KitjZ",
        "outputId": "48465e89-0d39-478d-cf88-62ac2851851f"
      },
      "execution_count": 5,
      "outputs": [
        {
          "output_type": "stream",
          "name": "stdout",
          "text": [
            "Feature 1 from Parent1\n",
            "Feature 2 from Parent2\n",
            "Feature 3 from Child\n"
          ]
        }
      ]
    },
    {
      "cell_type": "markdown",
      "source": [
        "# 7.What is Method resolution Method(MRO)in Python? How can you retrieve it programmically?"
      ],
      "metadata": {
        "id": "Ph1idWCFoZ0A"
      }
    },
    {
      "cell_type": "markdown",
      "source": [
        "MRO (Method Resolution Order) defines the order in which Python looks for a method or attribute in a hierarchy of classes. It is particularly important in cases involving multiple inheritance, where the same method might be defined in multiple parent classes.\n",
        "\n",
        "Python uses the C3 Linearization Algorithm (also known as C3 superclass linearization) to determine the MRO."
      ],
      "metadata": {
        "id": "wfwgLykgozg-"
      }
    },
    {
      "cell_type": "code",
      "source": [
        "class X:\n",
        "    def method(self):\n",
        "        print(\"Method from X\")\n",
        "\n",
        "class Y:\n",
        "    def method(self):\n",
        "        print(\"Method from Y\")\n",
        "\n",
        "class Z(X, Y):  # Multiple inheritance\n",
        "    pass\n",
        "\n",
        "print(Z.__mro__)  #\n",
        "\n",
        "# Method Resolution\n",
        "obj = Z()\n",
        "obj.method()\n"
      ],
      "metadata": {
        "colab": {
          "base_uri": "https://localhost:8080/"
        },
        "id": "_V1UUwASpL1r",
        "outputId": "57994a0e-d346-41d6-cf8a-67f2b520a32a"
      },
      "execution_count": 6,
      "outputs": [
        {
          "output_type": "stream",
          "name": "stdout",
          "text": [
            "(<class '__main__.Z'>, <class '__main__.X'>, <class '__main__.Y'>, <class 'object'>)\n",
            "Method from X\n"
          ]
        }
      ]
    },
    {
      "cell_type": "markdown",
      "source": [
        "# 8.Create an abstract base class 'shape' with an abstract method 'area()'.Then create two subclass 'Circle' and 'Rectangle' that implement yje 'area()' method.  "
      ],
      "metadata": {
        "id": "zcRma_MipTI4"
      }
    },
    {
      "cell_type": "code",
      "source": [
        "from abc import ABC, abstractmethod\n",
        "import math\n",
        "\n",
        "class Shape(ABC):\n",
        "    @abstractmethod\n",
        "    def area(self):\n",
        "\n",
        "        pass\n",
        "class Circle(Shape):\n",
        "    def __init__(self, radius):\n",
        "        self.radius = radius\n",
        "\n",
        "    def area(self):\n",
        "        return math.pi * (self.radius ** 2)\n",
        "\n",
        "class Rectangle(Shape):\n",
        "    def __init__(self, width, height):\n",
        "        self.width = width\n",
        "        self.height = height\n",
        "\n",
        "    def area(self):\n",
        "\n",
        "        return self.width * self.height\n",
        "\n",
        "circle = Circle(5)\n",
        "rectangle = Rectangle(4, 6)\n",
        "\n",
        "print(f\"Area of Circle with radius 5: {circle.area():.2f}\")\n",
        "print(f\"Area of Rectangle with width 4 and height 6: {rectangle.area()}\")\n"
      ],
      "metadata": {
        "colab": {
          "base_uri": "https://localhost:8080/"
        },
        "id": "21g9HaBjwqME",
        "outputId": "de860293-5ec8-43dc-9847-cf70f1ba40f7"
      },
      "execution_count": 7,
      "outputs": [
        {
          "output_type": "stream",
          "name": "stdout",
          "text": [
            "Area of Circle with radius 5: 78.54\n",
            "Area of Rectangle with width 4 and height 6: 24\n"
          ]
        }
      ]
    },
    {
      "cell_type": "markdown",
      "source": [
        "# 9.Demonstarte Polymorphism by creating a function that can work with different shape objects to calculate and print their areas."
      ],
      "metadata": {
        "id": "GKnaP99kw3fy"
      }
    },
    {
      "cell_type": "code",
      "source": [
        "from abc import ABC, abstractmethod\n",
        "import math\n",
        "\n",
        "class Shape(ABC):\n",
        "    @abstractmethod\n",
        "    def area(self):\n",
        "        pass\n",
        "\n",
        "class Circle(Shape):\n",
        "    def __init__(self, radius):\n",
        "        self.radius = radius\n",
        "\n",
        "    def area(self):\n",
        "        return math.pi * (self.radius ** 2)\n",
        "\n",
        "class Rectangle(Shape):\n",
        "    def __init__(self, width, height):\n",
        "        self.width = width\n",
        "        self.height = height\n",
        "\n",
        "    def area(self):\n",
        "        return self.width * self.height\n",
        "\n",
        "def print_area(shape):\n",
        "\n",
        "    if isinstance(shape, Shape):\n",
        "        print(f\"The area of the {shape.__class__.__name__} is: {shape.area():.2f}\")\n",
        "    else:\n",
        "        print(\"The provided object is not a Shape.\")\n",
        "\n",
        "# Example usage\n",
        "circle = Circle(5)\n",
        "rectangle = Rectangle(4, 6)\n",
        "\n",
        "print_area(circle)\n",
        "print_area(rectangle)\n"
      ],
      "metadata": {
        "colab": {
          "base_uri": "https://localhost:8080/"
        },
        "id": "F6hC1sYJxXvP",
        "outputId": "2cb596c7-9498-456b-e01b-9db984c2dfb3"
      },
      "execution_count": 8,
      "outputs": [
        {
          "output_type": "stream",
          "name": "stdout",
          "text": [
            "The area of the Circle is: 78.54\n",
            "The area of the Rectangle is: 24.00\n"
          ]
        }
      ]
    },
    {
      "cell_type": "markdown",
      "source": [
        "# 10.Implement encapsulation in a 'BankAccount' class with private attributes for 'balance' and 'account_number'. Include methods for deposit,withdrawal, and balance enquiry."
      ],
      "metadata": {
        "id": "-3mp3jqWxt7P"
      }
    },
    {
      "cell_type": "code",
      "source": [
        "class BankAccount:\n",
        "    def __init__(self, account_number, initial_balance=0):\n",
        "        self.__account_number = account_number\n",
        "        self.__balance = initial_balance\n",
        "\n",
        "    def deposit(self, amount):\n",
        "\n",
        "        if amount > 0:\n",
        "            self.__balance += amount\n",
        "            print(f\"Deposited ${amount:.2f}. New balance: ${self.__balance:.2f}\")\n",
        "        else:\n",
        "            print(\"Deposit amount must be positive.\")\n",
        "\n",
        "    def withdraw(self, amount):\n",
        "\n",
        "        if amount > 0:\n",
        "            if amount <= self.__balance:\n",
        "                self.__balance -= amount\n",
        "                print(f\"Withdrew ${amount:.2f}. New balance: ${self.__balance:.2f}\")\n",
        "            else:\n",
        "                print(\"Insufficient balance.\")\n",
        "        else:\n",
        "            print(\"Withdrawal amount must be positive.\")\n",
        "\n",
        "    def get_balance(self):\n",
        "\n",
        "        return self.__balance\n",
        "\n",
        "    def get_account_number(self):\n",
        "\n",
        "        return self.__account_number\n",
        "\n",
        "account = BankAccount(\"12345678\", 1000)\n",
        "account.deposit(500)\n",
        "account.withdraw(300)\n",
        "print(f\"Balance: ${account.get_balance():.2f}\")\n",
        "print(f\"Account Number: {account.get_account_number()}\")\n"
      ],
      "metadata": {
        "colab": {
          "base_uri": "https://localhost:8080/"
        },
        "id": "owxYE2Zhybdq",
        "outputId": "f642276d-d736-4ac9-93d0-18b5c6d26a65"
      },
      "execution_count": 9,
      "outputs": [
        {
          "output_type": "stream",
          "name": "stdout",
          "text": [
            "Deposited $500.00. New balance: $1500.00\n",
            "Withdrew $300.00. New balance: $1200.00\n",
            "Balance: $1200.00\n",
            "Account Number: 12345678\n"
          ]
        }
      ]
    },
    {
      "cell_type": "markdown",
      "source": [
        "# 11.Write a class that overrides the '__str__' and  '__add__' magic methods. What will this methods allow you to do?"
      ],
      "metadata": {
        "id": "Mjgu62taysiX"
      }
    },
    {
      "cell_type": "code",
      "source": [
        "class MyNumber:\n",
        "    def __init__(self, value):\n",
        "        self.value = value\n",
        "\n",
        "    def __str__(self):\n",
        "\n",
        "        return f\"MyNumber({self.value})\"\n",
        "\n",
        "    def __add__(self, other):\n",
        "\n",
        "        if isinstance(other, MyNumber):\n",
        "            return MyNumber(self.value + other.value)\n",
        "        else:\n",
        "            raise TypeError(\"Operand must be an instance of MyNumber.\")\n",
        "\n",
        "\n",
        "num1 = MyNumber(10)\n",
        "num2 = MyNumber(20)\n",
        "\n",
        "\n",
        "print(num1)\n",
        "\n",
        "result = num1 + num2\n",
        "print(result)\n"
      ],
      "metadata": {
        "colab": {
          "base_uri": "https://localhost:8080/"
        },
        "id": "8lMEyIrb0Sow",
        "outputId": "aea0fb86-8620-4b75-88a4-11999976613c"
      },
      "execution_count": 10,
      "outputs": [
        {
          "output_type": "stream",
          "name": "stdout",
          "text": [
            "MyNumber(10)\n",
            "MyNumber(30)\n"
          ]
        }
      ]
    },
    {
      "cell_type": "markdown",
      "source": [
        "This methods allows:-\n",
        "\n",
        "1.__str__:\n",
        "\n",
        "Provides a readable and meaningful string representation of an object.\n",
        "Instead of the default <_main_.MyNumber object at 0x...>, the object outputs something more user-friendly, like MyNumber(10).\n",
        "\n",
        "2.__add__:\n",
        "\n",
        "Allows objects to be added using the + operator.\n",
        "Enables natural and intuitive addition of objects, rather than calling a separate method like add()."
      ],
      "metadata": {
        "id": "OvlTz5VU0bLC"
      }
    },
    {
      "cell_type": "markdown",
      "source": [
        "# 12.Create a decorator that measures and prints the execution time of a function."
      ],
      "metadata": {
        "id": "H3mYMty6zqjz"
      }
    },
    {
      "cell_type": "code",
      "source": [
        "import time\n",
        "\n",
        "def measure_execution_time(func):\n",
        "    def wrapper(*args, **kwargs):\n",
        "        start_time = time.time()\n",
        "        result = func(*args, **kwargs)\n",
        "        end_time = time.time()\n",
        "        execution_time = end_time - start_time\n",
        "        print(f\"Execution time of {func.__name__}: {execution_time:.4f} seconds\")\n",
        "        return result\n",
        "    return wrapper\n",
        "\n",
        "\n",
        "@measure_execution_time\n",
        "def slow_function():\n",
        "    time.sleep(2)\n",
        "\n",
        "\n",
        "@measure_execution_time\n",
        "def add_numbers(a, b):\n",
        "    time.sleep(1)\n",
        "    return a + b\n",
        "slow_function()\n",
        "result = add_numbers(5, 3)\n",
        "print(f\"Result of add_numbers: {result}\")\n"
      ],
      "metadata": {
        "colab": {
          "base_uri": "https://localhost:8080/"
        },
        "id": "A4fzscot07KI",
        "outputId": "df7b9cca-a291-42a2-f8a8-59c0b288d10a"
      },
      "execution_count": 12,
      "outputs": [
        {
          "output_type": "stream",
          "name": "stdout",
          "text": [
            "Execution time of slow_function: 2.0030 seconds\n",
            "Execution time of add_numbers: 1.0006 seconds\n",
            "Result of add_numbers: 8\n"
          ]
        }
      ]
    },
    {
      "cell_type": "markdown",
      "source": [
        "# 13.Explain the concept of the Diamond Problem in multiple inheritance. how that does Python resolve it."
      ],
      "metadata": {
        "id": "b_7Aoelpz3bq"
      }
    },
    {
      "cell_type": "markdown",
      "source": [
        "The Diamond Problem occurs in object-oriented programming when a class inherits from two classes that both inherit from a common base class. This can lead to ambiguity, particularly in cases where methods are overridden in the parent classes.\n",
        "\n",
        "**To Resolves the Diamond Problem:**\n",
        "\n",
        "Python resolves the Diamond Problem using the C3 Linearization (or C3 Superclass Linearization) algorithm. This algorithm provides a consistent way to determine the order in which base classes are accessed. The result is a clear method resolution order (MRO), which Python follows to decide which method or attribute to call when there is ambiguity.\n",
        "\n",
        "The MRO ensures that classes are searched in a specific order, which resolves the problem of multiple inheritance."
      ],
      "metadata": {
        "id": "vEQ1FegM1T0x"
      }
    },
    {
      "cell_type": "markdown",
      "source": [
        "#14. Write a class method that keeps track of the number of instances created from a class."
      ],
      "metadata": {
        "id": "p9nz5_qI1h8D"
      }
    },
    {
      "cell_type": "code",
      "source": [
        "class InstanceCounter:\n",
        "\n",
        "    instance_count = 0\n",
        "\n",
        "    def __init__(self):\n",
        "\n",
        "        InstanceCounter.instance_count += 1\n",
        "\n",
        "    @classmethod\n",
        "    def get_instance_count(cls):\n",
        "\n",
        "        return cls.instance_count\n",
        "\n",
        "obj1 = InstanceCounter()\n",
        "obj2 = InstanceCounter()\n",
        "obj3 = InstanceCounter()\n",
        "\n",
        "print(f\"Number of instances created: {InstanceCounter.get_instance_count()}\")\n"
      ],
      "metadata": {
        "colab": {
          "base_uri": "https://localhost:8080/"
        },
        "id": "q6G9cPe_2LBo",
        "outputId": "eb0dda98-44b2-4bff-ec4d-cf98010b4ab1"
      },
      "execution_count": 14,
      "outputs": [
        {
          "output_type": "stream",
          "name": "stdout",
          "text": [
            "Number of instances created: 3\n"
          ]
        }
      ]
    },
    {
      "cell_type": "markdown",
      "source": [
        "#15. Implement a static method in a class that checks if a given year is a leap year."
      ],
      "metadata": {
        "id": "bEKgFGZ411nH"
      }
    },
    {
      "cell_type": "code",
      "source": [
        "class YearUtils:\n",
        "    @staticmethod\n",
        "    def is_leap_year(year):\n",
        "\n",
        "        if (year % 4 == 0 and year % 100 != 0) or (year % 400 == 0):\n",
        "            return True\n",
        "        return False\n",
        "\n",
        "year = 2024\n",
        "if YearUtils.is_leap_year(year):\n",
        "    print(f\"{year} is a leap year.\")\n",
        "else:\n",
        "    print(f\"{year} is not a leap year.\")\n"
      ],
      "metadata": {
        "colab": {
          "base_uri": "https://localhost:8080/"
        },
        "id": "8He20_Qk2Gh6",
        "outputId": "7e30cf39-eb1f-4b11-954d-33a2ff10c3b9"
      },
      "execution_count": 13,
      "outputs": [
        {
          "output_type": "stream",
          "name": "stdout",
          "text": [
            "2024 is a leap year.\n"
          ]
        }
      ]
    }
  ]
}